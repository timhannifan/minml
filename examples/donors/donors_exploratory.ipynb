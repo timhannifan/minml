{
 "cells": [
  {
   "cell_type": "code",
   "execution_count": 27,
   "metadata": {},
   "outputs": [
    {
     "name": "stdout",
     "output_type": "stream",
     "text": [
      "       school_ncesid  school_latitude  school_longitude  \\\n",
      "count   1.157430e+05    124976.000000     124976.000000   \n",
      "mean    2.448448e+11        36.827284        -95.859299   \n",
      "std     1.644728e+11         4.963669         18.392876   \n",
      "min     1.000050e+10        18.249140       -171.690554   \n",
      "25%     6.344101e+10        33.872504       -117.806418   \n",
      "50%     2.200870e+11        36.617410        -90.101563   \n",
      "75%     3.704880e+11        40.676156        -80.713740   \n",
      "max     6.100010e+11        65.672562        -66.628036   \n",
      "\n",
      "       total_price_including_optional_support  students_reached  \n",
      "count                           124976.000000     124917.000000  \n",
      "mean                               654.011811         95.445760  \n",
      "std                               1098.015854        163.481912  \n",
      "min                                 92.000000          1.000000  \n",
      "25%                                345.810000         23.000000  \n",
      "50%                                510.500000         30.000000  \n",
      "75%                                752.960000        100.000000  \n",
      "max                             164382.840000      12143.000000  \n"
     ]
    }
   ],
   "source": [
    "import minml\n",
    "import pandas as pd\n",
    "import matplotlib.pyplot as plt\n",
    "import seaborn as sns\n",
    "\n",
    "%matplotlib inline\n",
    "sns.set(style=\"white\")\n",
    "\n",
    "df = pd.read_csv('data/data_full.csv')\n",
    "print(df.describe())"
   ]
  },
  {
   "cell_type": "code",
   "execution_count": null,
   "metadata": {},
   "outputs": [],
   "source": []
  },
  {
   "cell_type": "code",
   "execution_count": null,
   "metadata": {},
   "outputs": [],
   "source": []
  },
  {
   "cell_type": "code",
   "execution_count": null,
   "metadata": {},
   "outputs": [],
   "source": []
  }
 ],
 "metadata": {
  "kernelspec": {
   "display_name": "Python 3",
   "language": "python",
   "name": "python3"
  },
  "language_info": {
   "codemirror_mode": {
    "name": "ipython",
    "version": 3
   },
   "file_extension": ".py",
   "mimetype": "text/x-python",
   "name": "python",
   "nbconvert_exporter": "python",
   "pygments_lexer": "ipython3",
   "version": "3.7.3"
  }
 },
 "nbformat": 4,
 "nbformat_minor": 2
}
